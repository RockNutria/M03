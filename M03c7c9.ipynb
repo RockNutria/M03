{
 "cells": [
  {
   "cell_type": "code",
   "execution_count": 1,
   "id": "dfddb406-8529-4039-8dd8-d34880d4eab2",
   "metadata": {},
   "outputs": [],
   "source": [
    "things = [\"mozzarella\", \"cinderella\", \"salmonella\"]"
   ]
  },
  {
   "cell_type": "code",
   "execution_count": 2,
   "id": "8f3e4f58-20b9-465e-b18a-24f1e5b12159",
   "metadata": {},
   "outputs": [
    {
     "name": "stdout",
     "output_type": "stream",
     "text": [
      "After capitalizing the person: ['mozzarella', 'Cinderella', 'salmonella']\n"
     ]
    }
   ],
   "source": [
    "things[1] = things[1].capitalize()\n",
    "print(\"After capitalizing the person:\", things)"
   ]
  },
  {
   "cell_type": "code",
   "execution_count": 3,
   "id": "556faa99-f827-4a76-a3cb-b72c35392c4e",
   "metadata": {},
   "outputs": [
    {
     "name": "stdout",
     "output_type": "stream",
     "text": [
      "After making the cheesy element uppercase: ['MOZZARELLA', 'Cinderella', 'salmonella']\n"
     ]
    }
   ],
   "source": [
    "things[0] = things[0].upper()\n",
    "print(\"After making the cheesy element uppercase:\", things)"
   ]
  },
  {
   "cell_type": "code",
   "execution_count": 4,
   "id": "9b8fb8ff-a302-47c7-b537-bb5108f15572",
   "metadata": {},
   "outputs": [
    {
     "name": "stdout",
     "output_type": "stream",
     "text": [
      "After deleting the disease element: ['MOZZARELLA', 'Cinderella']\n"
     ]
    }
   ],
   "source": [
    "del things[2]\n",
    "print(\"After deleting the disease element:\", things)"
   ]
  },
  {
   "cell_type": "code",
   "execution_count": 5,
   "id": "b61df068-44d9-4f36-845a-8e38f5309f92",
   "metadata": {},
   "outputs": [],
   "source": [
    "def get_odds():\n",
    "    for number in range(10):\n",
    "        if number % 2 != 0:\n",
    "            yield number"
   ]
  },
  {
   "cell_type": "code",
   "execution_count": 6,
   "id": "b49cdf27-f6f2-48fe-9a44-586d2ac6bed3",
   "metadata": {},
   "outputs": [],
   "source": [
    "odd_numbers = get_odds()\n",
    "third_odd = None\n",
    "for i, odd in enumerate(odd_numbers, start=1):\n",
    "    if i == 3:\n",
    "        third_odd = odd\n",
    "        break"
   ]
  },
  {
   "cell_type": "code",
   "execution_count": null,
   "id": "d0a3d69d-78c1-4de5-8bac-f509d1ff997f",
   "metadata": {},
   "outputs": [],
   "source": []
  }
 ],
 "metadata": {
  "kernelspec": {
   "display_name": "Python 3 (ipykernel)",
   "language": "python",
   "name": "python3"
  },
  "language_info": {
   "codemirror_mode": {
    "name": "ipython",
    "version": 3
   },
   "file_extension": ".py",
   "mimetype": "text/x-python",
   "name": "python",
   "nbconvert_exporter": "python",
   "pygments_lexer": "ipython3",
   "version": "3.11.7"
  }
 },
 "nbformat": 4,
 "nbformat_minor": 5
}
